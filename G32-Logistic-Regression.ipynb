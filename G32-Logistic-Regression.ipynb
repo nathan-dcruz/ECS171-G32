{
 "cells": [
  {
   "cell_type": "markdown",
   "id": "71387b0c",
   "metadata": {},
   "source": [
    "# Project Group 32 \n",
    "## Cancer Classification - Logistic Regression Model \n",
    "### Mukta Jaiswal, Nathan D'Cruz"
   ]
  },
  {
   "cell_type": "code",
   "execution_count": null,
   "id": "befabbe3",
   "metadata": {},
   "outputs": [],
   "source": [
    "import operator\n",
    "from sklearn.model_selection import train_test_split\n",
    "from sklearn.neural_network import MLPClassifier\n",
    "from sklearn.preprocessing import MinMaxScaler, PolynomialFeatures\n",
    "from sklearn.metrics import classification_report, confusion_matrix, multilabel_confusion_matrix\n",
    "from sklearn.metrics import mean_squared_error, accuracy_score, precision_score, recall_score, r2_score\n",
    "from sklearn.model_selection import cross_validate\n",
    "from sklearn.linear_model import LogisticRegression, LinearRegression\n",
    "\n",
    "import matplotlib.pyplot as plt\n",
    "import pandas as pd \n",
    "import numpy as np"
   ]
  },
  {
   "cell_type": "code",
   "execution_count": null,
   "id": "bdb04df9",
   "metadata": {},
   "outputs": [],
   "source": [
    "DATA_FILE_NAME = \"./file-name-here.csv\""
   ]
  },
  {
   "cell_type": "code",
   "execution_count": null,
   "id": "c5fc6bce",
   "metadata": {},
   "outputs": [],
   "source": [
    "df = pd.read_csv(DATA_FILE_NAME)\n",
    "data_train, data_test = train_test_split(data, test_size=0.2, random_state=42)"
   ]
  },
  {
   "cell_type": "code",
   "execution_count": null,
   "id": "f53e815b",
   "metadata": {},
   "outputs": [],
   "source": [
    "cls = LogisticRegression()\n",
    "cls.fit(X_train, y_train)\n",
    "print(classification_report(y_test, cls.predict(X_test)))"
   ]
  }
 ],
 "metadata": {
  "kernelspec": {
   "display_name": "Python 3 (ipykernel)",
   "language": "python",
   "name": "python3"
  },
  "language_info": {
   "codemirror_mode": {
    "name": "ipython",
    "version": 3
   },
   "file_extension": ".py",
   "mimetype": "text/x-python",
   "name": "python",
   "nbconvert_exporter": "python",
   "pygments_lexer": "ipython3",
   "version": "3.9.13"
  }
 },
 "nbformat": 4,
 "nbformat_minor": 5
}
